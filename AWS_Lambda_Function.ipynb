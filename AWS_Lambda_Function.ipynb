{
  "nbformat": 4,
  "nbformat_minor": 0,
  "metadata": {
    "colab": {
      "provenance": [],
      "authorship_tag": "ABX9TyNhKOOCQVqYFE1Sh+ukj3LR",
      "include_colab_link": true
    },
    "kernelspec": {
      "name": "python3",
      "display_name": "Python 3"
    },
    "language_info": {
      "name": "python"
    }
  },
  "cells": [
    {
      "cell_type": "markdown",
      "metadata": {
        "id": "view-in-github",
        "colab_type": "text"
      },
      "source": [
        "<a href=\"https://colab.research.google.com/github/UmeshikaThathsarani/FuelO/blob/feature%2FlambdaFunctions/AWS_Lambda_Function.ipynb\" target=\"_parent\"><img src=\"https://colab.research.google.com/assets/colab-badge.svg\" alt=\"Open In Colab\"/></a>"
      ]
    },
    {
      "cell_type": "code",
      "execution_count": null,
      "metadata": {
        "id": "lnwDJVVoaPrx"
      },
      "outputs": [],
      "source": [
        "import json\n",
        "import numpy as np\n",
        "import tensorflow as tf\n",
        "from tensorflow import keras\n",
        "from sklearn.preprocessing import OneHotEncoder, StandardScaler\n",
        "\n",
        "# Load the trained model\n",
        "model = keras.models.load_model('fuel_consumption_model.h5')\n",
        "\n",
        "# Load the one-hot encoding and scaling transformers\n",
        "with open('one_hot_encoder.pkl', 'rb') as f:\n",
        "    encoder = pickle.load(f)\n",
        "with open('scaler.pkl', 'rb') as f:\n",
        "    scaler = pickle.load(f)\n",
        "\n",
        "def lambda_handler(event, context):\n",
        "    # Parse the input parameters from the API Gateway event\n",
        "    year = event['year']\n",
        "    make = event['make']\n",
        "    transmission = event['transmission']\n",
        "    engine_cylinders = event['engineCylinders']\n",
        "    turbocharger = event['turbocharger']\n",
        "    fuel_type = event['fuelType']\n",
        "    mpg = event['mpg']\n",
        "    \n",
        "    # Convert the input parameters to a numpy array\n",
        "    input_data = np.array([[year, make, transmission, engine_cylinders, turbocharger, fuel_type, mpg]])\n",
        "    \n",
        "    # Perform one-hot encoding and scaling on the input data\n",
        "    input_data_encoded = encoder.transform(input_data).toarray()\n",
        "    input_data_scaled = scaler.transform(input_data_encoded)\n",
        "    \n",
        "    # Predict the fuel consumption using the trained model\n",
        "    predictions = model.predict(input_data_scaled)\n",
        "    city_fuel_consumption, highway_fuel_consumption = predictions[0]\n",
        "    \n",
        "    # Create the response body\n",
        "    response_body = {\n",
        "        'cityFuelConsumption': city_fuel_consumption,\n",
        "        'highwayFuelConsumption': highway_fuel_consumption\n",
        "    }\n",
        "    \n",
        "    # Create the response object\n",
        "    response = {\n",
        "        'statusCode': 200,\n",
        "        'body': json.dumps(response_body)\n",
        "    }\n",
        "    \n",
        "    # Return the response object\n",
        "    return response\n"
      ]
    }
  ]
}