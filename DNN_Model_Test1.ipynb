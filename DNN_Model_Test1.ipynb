{
  "nbformat": 4,
  "nbformat_minor": 0,
  "metadata": {
    "colab": {
      "provenance": [],
      "authorship_tag": "ABX9TyOgZO6LqMtpYn5wqQtugEpY",
      "include_colab_link": true
    },
    "kernelspec": {
      "name": "python3",
      "display_name": "Python 3"
    },
    "language_info": {
      "name": "python"
    }
  },
  "cells": [
    {
      "cell_type": "markdown",
      "metadata": {
        "id": "view-in-github",
        "colab_type": "text"
      },
      "source": [
        "<a href=\"https://colab.research.google.com/github/UmeshikaThathsarani/FuelO/blob/main/DNN_Model_Test.ipynb\" target=\"_parent\"><img src=\"https://colab.research.google.com/assets/colab-badge.svg\" alt=\"Open In Colab\"/></a>"
      ]
    },
    {
      "cell_type": "markdown",
      "source": [
        "# **5 layers**"
      ],
      "metadata": {
        "id": "0Il2zv0vmrg2"
      }
    },
    {
      "cell_type": "code",
      "execution_count": 20,
      "metadata": {
        "id": "xL58Q18ze_pB"
      },
      "outputs": [],
      "source": [
        "import tensorflow as tf\n",
        "import pandas as pd"
      ]
    },
    {
      "cell_type": "code",
      "source": [
        "df = pd.read_csv('/content/Normalized_Without_Outputs.csv')\n",
        "train_df = df.sample(frac=0.8, random_state=0)\n",
        "test_df = df.drop(train_df.index)"
      ],
      "metadata": {
        "id": "sYjsbPbfkHft"
      },
      "execution_count": 21,
      "outputs": []
    },
    {
      "cell_type": "code",
      "source": [
        "input_shape = train_df.shape[1] - 2\n",
        "output_shape = 2"
      ],
      "metadata": {
        "id": "v9ps--nokeYm"
      },
      "execution_count": 22,
      "outputs": []
    },
    {
      "cell_type": "code",
      "source": [
        "model = tf.keras.models.Sequential()\n",
        "model.add(tf.keras.layers.Dense(units=64, activation='relu', input_shape=(input_shape,)))\n",
        "model.add(tf.keras.layers.Dense(units=128, activation='relu'))\n",
        "model.add(tf.keras.layers.Dense(units=256, activation='relu'))\n",
        "model.add(tf.keras.layers.Dense(units=512, activation='relu'))\n",
        "model.add(tf.keras.layers.Dense(units=1024, activation='relu'))\n",
        "model.add(tf.keras.layers.Dense(units=output_shape, activation='softmax'))"
      ],
      "metadata": {
        "id": "5n1ZccwckkrK"
      },
      "execution_count": 23,
      "outputs": []
    },
    {
      "cell_type": "code",
      "source": [
        "model.compile(optimizer='adam', loss='categorical_crossentropy', metrics=['accuracy'])"
      ],
      "metadata": {
        "id": "B6v35RTUkn1h"
      },
      "execution_count": 24,
      "outputs": []
    },
    {
      "cell_type": "code",
      "source": [
        "X_train = train_df.iloc[:, :-2]\n",
        "y_train = train_df.iloc[:, -2:]\n",
        "\n",
        "model.fit(X_train, y_train, epochs=10)"
      ],
      "metadata": {
        "colab": {
          "base_uri": "https://localhost:8080/"
        },
        "id": "EXJ_DguRkrcu",
        "outputId": "f46b9c39-ac6d-41c4-f519-d0000effacea"
      },
      "execution_count": 25,
      "outputs": [
        {
          "output_type": "stream",
          "name": "stdout",
          "text": [
            "Epoch 1/10\n",
            "69/69 [==============================] - 1s 12ms/step - loss: 71686968.0000 - accuracy: 0.9936\n",
            "Epoch 2/10\n",
            "69/69 [==============================] - 1s 12ms/step - loss: 26280404992.0000 - accuracy: 1.0000\n",
            "Epoch 3/10\n",
            "69/69 [==============================] - 1s 12ms/step - loss: 688450895872.0000 - accuracy: 1.0000\n",
            "Epoch 4/10\n",
            "69/69 [==============================] - 1s 15ms/step - loss: 5953941405696.0000 - accuracy: 1.0000\n",
            "Epoch 5/10\n",
            "69/69 [==============================] - 1s 18ms/step - loss: 28613929861120.0000 - accuracy: 1.0000\n",
            "Epoch 6/10\n",
            "69/69 [==============================] - 1s 15ms/step - loss: 95901787881472.0000 - accuracy: 1.0000\n",
            "Epoch 7/10\n",
            "69/69 [==============================] - 1s 12ms/step - loss: 252649605693440.0000 - accuracy: 1.0000\n",
            "Epoch 8/10\n",
            "69/69 [==============================] - 1s 11ms/step - loss: 572829787488256.0000 - accuracy: 1.0000\n",
            "Epoch 9/10\n",
            "69/69 [==============================] - 1s 11ms/step - loss: 1146197922283520.0000 - accuracy: 1.0000\n",
            "Epoch 10/10\n",
            "69/69 [==============================] - 1s 11ms/step - loss: 2087346589663232.0000 - accuracy: 1.0000\n"
          ]
        },
        {
          "output_type": "execute_result",
          "data": {
            "text/plain": [
              "<keras.callbacks.History at 0x7f8a318bdfd0>"
            ]
          },
          "metadata": {},
          "execution_count": 25
        }
      ]
    },
    {
      "cell_type": "code",
      "source": [
        "X_test = test_df.iloc[:, :-2]\n",
        "y_test = test_df.iloc[:, -2:]\n",
        "\n",
        "model.evaluate(X_test, y_test)"
      ],
      "metadata": {
        "colab": {
          "base_uri": "https://localhost:8080/"
        },
        "id": "cZzT4SkkkvJY",
        "outputId": "f38a8200-5ee1-49a0-adac-37c905f0e0e0"
      },
      "execution_count": 26,
      "outputs": [
        {
          "output_type": "stream",
          "name": "stdout",
          "text": [
            "18/18 [==============================] - 0s 4ms/step - loss: 2715873177501696.0000 - accuracy: 1.0000\n"
          ]
        },
        {
          "output_type": "execute_result",
          "data": {
            "text/plain": [
              "[2715873177501696.0, 1.0]"
            ]
          },
          "metadata": {},
          "execution_count": 26
        }
      ]
    },
    {
      "cell_type": "markdown",
      "source": [
        "# **10 layers**"
      ],
      "metadata": {
        "id": "XHrFRl6ilxD-"
      }
    },
    {
      "cell_type": "code",
      "source": [
        "import numpy as np\n",
        "import pandas as pd\n",
        "from keras.models import Sequential\n",
        "from keras.layers import Dense, Dropout"
      ],
      "metadata": {
        "id": "tfZnToz1lxtd"
      },
      "execution_count": 8,
      "outputs": []
    },
    {
      "cell_type": "code",
      "source": [
        "data = pd.read_csv(\"/content/Normalized_Without_Outputs.csv\")"
      ],
      "metadata": {
        "id": "UYa_tRbYl35x"
      },
      "execution_count": 9,
      "outputs": []
    },
    {
      "cell_type": "code",
      "source": [
        "X = data.iloc[:, :-2].values\n",
        "y = data.iloc[:, -2:].values"
      ],
      "metadata": {
        "id": "2jPgmqePl67A"
      },
      "execution_count": 10,
      "outputs": []
    },
    {
      "cell_type": "code",
      "source": [
        "model = Sequential()\n",
        "\n",
        "model.add(Dense(128, activation='relu', input_shape=(X.shape[1],)))\n",
        "model.add(Dropout(0.2))\n",
        "\n",
        "for i in range(9):\n",
        "  model.add(Dense(128, activation='relu'))\n",
        "  model.add(Dropout(0.2))\n",
        "\n",
        "model.add(Dense(2, activation='sigmoid'))"
      ],
      "metadata": {
        "id": "1Z-BM3A3l-I3"
      },
      "execution_count": 11,
      "outputs": []
    },
    {
      "cell_type": "code",
      "source": [
        "model.compile(loss='binary_crossentropy', optimizer='adam', metrics=['accuracy'])"
      ],
      "metadata": {
        "id": "ghSkaxwImBdJ"
      },
      "execution_count": 12,
      "outputs": []
    },
    {
      "cell_type": "code",
      "source": [
        "history = model.fit(X, y, epochs=100, batch_size=64)"
      ],
      "metadata": {
        "colab": {
          "base_uri": "https://localhost:8080/"
        },
        "id": "y-zufGbEmGK7",
        "outputId": "8810e9dd-1451-4600-fa8c-c64f85baee37"
      },
      "execution_count": 13,
      "outputs": [
        {
          "output_type": "stream",
          "name": "stdout",
          "text": [
            "Epoch 1/100\n",
            "43/43 [==============================] - 1s 8ms/step - loss: -259712288.0000 - accuracy: 0.9974\n",
            "Epoch 2/100\n",
            "43/43 [==============================] - 0s 8ms/step - loss: -25441115045888.0000 - accuracy: 1.0000\n",
            "Epoch 3/100\n",
            "43/43 [==============================] - 0s 8ms/step - loss: -39660651429232640.0000 - accuracy: 1.0000\n",
            "Epoch 4/100\n",
            "43/43 [==============================] - 0s 8ms/step - loss: -7345449057566851072.0000 - accuracy: 1.0000\n",
            "Epoch 5/100\n",
            "43/43 [==============================] - 0s 8ms/step - loss: nan - accuracy: 0.9608                    \n",
            "Epoch 6/100\n",
            "43/43 [==============================] - 0s 8ms/step - loss: nan - accuracy: 0.0000e+00\n",
            "Epoch 7/100\n",
            "43/43 [==============================] - 0s 8ms/step - loss: nan - accuracy: 0.0000e+00\n",
            "Epoch 8/100\n",
            "43/43 [==============================] - 0s 12ms/step - loss: nan - accuracy: 0.0000e+00\n",
            "Epoch 9/100\n",
            "43/43 [==============================] - 1s 12ms/step - loss: nan - accuracy: 0.0000e+00\n",
            "Epoch 10/100\n",
            "43/43 [==============================] - 1s 12ms/step - loss: nan - accuracy: 0.0000e+00\n",
            "Epoch 11/100\n",
            "43/43 [==============================] - 1s 12ms/step - loss: nan - accuracy: 0.0000e+00\n",
            "Epoch 12/100\n",
            "43/43 [==============================] - 1s 12ms/step - loss: nan - accuracy: 0.0000e+00\n",
            "Epoch 13/100\n",
            "43/43 [==============================] - 0s 10ms/step - loss: nan - accuracy: 0.0000e+00\n",
            "Epoch 14/100\n",
            "43/43 [==============================] - 0s 7ms/step - loss: nan - accuracy: 0.0000e+00\n",
            "Epoch 15/100\n",
            "43/43 [==============================] - 0s 8ms/step - loss: nan - accuracy: 0.0000e+00\n",
            "Epoch 16/100\n",
            "43/43 [==============================] - 0s 8ms/step - loss: nan - accuracy: 0.0000e+00\n",
            "Epoch 17/100\n",
            "43/43 [==============================] - 0s 7ms/step - loss: nan - accuracy: 0.0000e+00\n",
            "Epoch 18/100\n",
            "43/43 [==============================] - 0s 8ms/step - loss: nan - accuracy: 0.0000e+00\n",
            "Epoch 19/100\n",
            "43/43 [==============================] - 1s 12ms/step - loss: nan - accuracy: 0.0000e+00\n",
            "Epoch 20/100\n",
            "43/43 [==============================] - 0s 9ms/step - loss: nan - accuracy: 0.0000e+00\n",
            "Epoch 21/100\n",
            "43/43 [==============================] - 0s 10ms/step - loss: nan - accuracy: 0.0000e+00\n",
            "Epoch 22/100\n",
            "43/43 [==============================] - 0s 11ms/step - loss: nan - accuracy: 0.0000e+00\n",
            "Epoch 23/100\n",
            "43/43 [==============================] - 0s 8ms/step - loss: nan - accuracy: 0.0000e+00\n",
            "Epoch 24/100\n",
            "43/43 [==============================] - 1s 13ms/step - loss: nan - accuracy: 0.0000e+00\n",
            "Epoch 25/100\n",
            "43/43 [==============================] - 0s 8ms/step - loss: nan - accuracy: 0.0000e+00\n",
            "Epoch 26/100\n",
            "43/43 [==============================] - 0s 8ms/step - loss: nan - accuracy: 0.0000e+00\n",
            "Epoch 27/100\n",
            "43/43 [==============================] - 0s 7ms/step - loss: nan - accuracy: 0.0000e+00\n",
            "Epoch 28/100\n",
            "43/43 [==============================] - 0s 8ms/step - loss: nan - accuracy: 0.0000e+00\n",
            "Epoch 29/100\n",
            "43/43 [==============================] - 0s 8ms/step - loss: nan - accuracy: 0.0000e+00\n",
            "Epoch 30/100\n",
            "43/43 [==============================] - 0s 7ms/step - loss: nan - accuracy: 0.0000e+00\n",
            "Epoch 31/100\n",
            "43/43 [==============================] - 0s 8ms/step - loss: nan - accuracy: 0.0000e+00\n",
            "Epoch 32/100\n",
            "43/43 [==============================] - 0s 8ms/step - loss: nan - accuracy: 0.0000e+00\n",
            "Epoch 33/100\n",
            "43/43 [==============================] - 0s 8ms/step - loss: nan - accuracy: 0.0000e+00\n",
            "Epoch 34/100\n",
            "43/43 [==============================] - 0s 8ms/step - loss: nan - accuracy: 0.0000e+00\n",
            "Epoch 35/100\n",
            "43/43 [==============================] - 0s 8ms/step - loss: nan - accuracy: 0.0000e+00\n",
            "Epoch 36/100\n",
            "43/43 [==============================] - 0s 7ms/step - loss: nan - accuracy: 0.0000e+00\n",
            "Epoch 37/100\n",
            "43/43 [==============================] - 0s 8ms/step - loss: nan - accuracy: 0.0000e+00\n",
            "Epoch 38/100\n",
            "43/43 [==============================] - 0s 7ms/step - loss: nan - accuracy: 0.0000e+00\n",
            "Epoch 39/100\n",
            "43/43 [==============================] - 0s 7ms/step - loss: nan - accuracy: 0.0000e+00\n",
            "Epoch 40/100\n",
            "43/43 [==============================] - 0s 9ms/step - loss: nan - accuracy: 0.0000e+00\n",
            "Epoch 41/100\n",
            "43/43 [==============================] - 1s 12ms/step - loss: nan - accuracy: 0.0000e+00\n",
            "Epoch 42/100\n",
            "43/43 [==============================] - 1s 20ms/step - loss: nan - accuracy: 0.0000e+00\n",
            "Epoch 43/100\n",
            "43/43 [==============================] - 1s 19ms/step - loss: nan - accuracy: 0.0000e+00\n",
            "Epoch 44/100\n",
            "43/43 [==============================] - 1s 13ms/step - loss: nan - accuracy: 0.0000e+00\n",
            "Epoch 45/100\n",
            "43/43 [==============================] - 0s 9ms/step - loss: nan - accuracy: 0.0000e+00\n",
            "Epoch 46/100\n",
            "43/43 [==============================] - 0s 7ms/step - loss: nan - accuracy: 0.0000e+00\n",
            "Epoch 47/100\n",
            "43/43 [==============================] - 0s 8ms/step - loss: nan - accuracy: 0.0000e+00\n",
            "Epoch 48/100\n",
            "43/43 [==============================] - 0s 8ms/step - loss: nan - accuracy: 0.0000e+00\n",
            "Epoch 49/100\n",
            "43/43 [==============================] - 0s 8ms/step - loss: nan - accuracy: 0.0000e+00\n",
            "Epoch 50/100\n",
            "43/43 [==============================] - 0s 8ms/step - loss: nan - accuracy: 0.0000e+00\n",
            "Epoch 51/100\n",
            "43/43 [==============================] - 0s 8ms/step - loss: nan - accuracy: 0.0000e+00\n",
            "Epoch 52/100\n",
            "43/43 [==============================] - 0s 8ms/step - loss: nan - accuracy: 0.0000e+00\n",
            "Epoch 53/100\n",
            "43/43 [==============================] - 0s 8ms/step - loss: nan - accuracy: 0.0000e+00\n",
            "Epoch 54/100\n",
            "43/43 [==============================] - 0s 8ms/step - loss: nan - accuracy: 0.0000e+00\n",
            "Epoch 55/100\n",
            "43/43 [==============================] - 0s 8ms/step - loss: nan - accuracy: 0.0000e+00\n",
            "Epoch 56/100\n",
            "43/43 [==============================] - 0s 8ms/step - loss: nan - accuracy: 0.0000e+00\n",
            "Epoch 57/100\n",
            "43/43 [==============================] - 0s 8ms/step - loss: nan - accuracy: 0.0000e+00\n",
            "Epoch 58/100\n",
            "43/43 [==============================] - 0s 7ms/step - loss: nan - accuracy: 0.0000e+00\n",
            "Epoch 59/100\n",
            "43/43 [==============================] - 0s 8ms/step - loss: nan - accuracy: 0.0000e+00\n",
            "Epoch 60/100\n",
            "43/43 [==============================] - 0s 8ms/step - loss: nan - accuracy: 0.0000e+00\n",
            "Epoch 61/100\n",
            "43/43 [==============================] - 0s 8ms/step - loss: nan - accuracy: 0.0000e+00\n",
            "Epoch 62/100\n",
            "43/43 [==============================] - 0s 8ms/step - loss: nan - accuracy: 0.0000e+00\n",
            "Epoch 63/100\n",
            "43/43 [==============================] - 0s 8ms/step - loss: nan - accuracy: 0.0000e+00\n",
            "Epoch 64/100\n",
            "43/43 [==============================] - 0s 8ms/step - loss: nan - accuracy: 0.0000e+00\n",
            "Epoch 65/100\n",
            "43/43 [==============================] - 0s 8ms/step - loss: nan - accuracy: 0.0000e+00\n",
            "Epoch 66/100\n",
            "43/43 [==============================] - 0s 8ms/step - loss: nan - accuracy: 0.0000e+00\n",
            "Epoch 67/100\n",
            "43/43 [==============================] - 0s 7ms/step - loss: nan - accuracy: 0.0000e+00\n",
            "Epoch 68/100\n",
            "43/43 [==============================] - 0s 8ms/step - loss: nan - accuracy: 0.0000e+00\n",
            "Epoch 69/100\n",
            "43/43 [==============================] - 0s 8ms/step - loss: nan - accuracy: 0.0000e+00\n",
            "Epoch 70/100\n",
            "43/43 [==============================] - 0s 8ms/step - loss: nan - accuracy: 0.0000e+00\n",
            "Epoch 71/100\n",
            "43/43 [==============================] - 0s 8ms/step - loss: nan - accuracy: 0.0000e+00\n",
            "Epoch 72/100\n",
            "43/43 [==============================] - 0s 7ms/step - loss: nan - accuracy: 0.0000e+00\n",
            "Epoch 73/100\n",
            "43/43 [==============================] - 0s 7ms/step - loss: nan - accuracy: 0.0000e+00\n",
            "Epoch 74/100\n",
            "43/43 [==============================] - 0s 10ms/step - loss: nan - accuracy: 0.0000e+00\n",
            "Epoch 75/100\n",
            "43/43 [==============================] - 1s 13ms/step - loss: nan - accuracy: 0.0000e+00\n",
            "Epoch 76/100\n",
            "43/43 [==============================] - 1s 12ms/step - loss: nan - accuracy: 0.0000e+00\n",
            "Epoch 77/100\n",
            "43/43 [==============================] - 1s 12ms/step - loss: nan - accuracy: 0.0000e+00\n",
            "Epoch 78/100\n",
            "43/43 [==============================] - 1s 13ms/step - loss: nan - accuracy: 0.0000e+00\n",
            "Epoch 79/100\n",
            "43/43 [==============================] - 0s 11ms/step - loss: nan - accuracy: 0.0000e+00\n",
            "Epoch 80/100\n",
            "43/43 [==============================] - 0s 8ms/step - loss: nan - accuracy: 0.0000e+00\n",
            "Epoch 81/100\n",
            "43/43 [==============================] - 0s 8ms/step - loss: nan - accuracy: 0.0000e+00\n",
            "Epoch 82/100\n",
            "43/43 [==============================] - 0s 7ms/step - loss: nan - accuracy: 0.0000e+00\n",
            "Epoch 83/100\n",
            "43/43 [==============================] - 0s 8ms/step - loss: nan - accuracy: 0.0000e+00\n",
            "Epoch 84/100\n",
            "43/43 [==============================] - 0s 8ms/step - loss: nan - accuracy: 0.0000e+00\n",
            "Epoch 85/100\n",
            "43/43 [==============================] - 0s 7ms/step - loss: nan - accuracy: 0.0000e+00\n",
            "Epoch 86/100\n",
            "43/43 [==============================] - 0s 8ms/step - loss: nan - accuracy: 0.0000e+00\n",
            "Epoch 87/100\n",
            "43/43 [==============================] - 0s 8ms/step - loss: nan - accuracy: 0.0000e+00\n",
            "Epoch 88/100\n",
            "43/43 [==============================] - 0s 8ms/step - loss: nan - accuracy: 0.0000e+00\n",
            "Epoch 89/100\n",
            "43/43 [==============================] - 0s 8ms/step - loss: nan - accuracy: 0.0000e+00\n",
            "Epoch 90/100\n",
            "43/43 [==============================] - 0s 8ms/step - loss: nan - accuracy: 0.0000e+00\n",
            "Epoch 91/100\n",
            "43/43 [==============================] - 0s 8ms/step - loss: nan - accuracy: 0.0000e+00\n",
            "Epoch 92/100\n",
            "43/43 [==============================] - 0s 8ms/step - loss: nan - accuracy: 0.0000e+00\n",
            "Epoch 93/100\n",
            "43/43 [==============================] - 0s 8ms/step - loss: nan - accuracy: 0.0000e+00\n",
            "Epoch 94/100\n",
            "43/43 [==============================] - 0s 8ms/step - loss: nan - accuracy: 0.0000e+00\n",
            "Epoch 95/100\n",
            "43/43 [==============================] - 0s 8ms/step - loss: nan - accuracy: 0.0000e+00\n",
            "Epoch 96/100\n",
            "43/43 [==============================] - 0s 8ms/step - loss: nan - accuracy: 0.0000e+00\n",
            "Epoch 97/100\n",
            "43/43 [==============================] - 0s 8ms/step - loss: nan - accuracy: 0.0000e+00\n",
            "Epoch 98/100\n",
            "43/43 [==============================] - 0s 8ms/step - loss: nan - accuracy: 0.0000e+00\n",
            "Epoch 99/100\n",
            "43/43 [==============================] - 0s 8ms/step - loss: nan - accuracy: 0.0000e+00\n",
            "Epoch 100/100\n",
            "43/43 [==============================] - 0s 8ms/step - loss: nan - accuracy: 0.0000e+00\n"
          ]
        }
      ]
    },
    {
      "cell_type": "code",
      "source": [
        "test_loss, test_acc = model.evaluate(X, y)\n",
        "print('Test accuracy:', test_acc)"
      ],
      "metadata": {
        "colab": {
          "base_uri": "https://localhost:8080/"
        },
        "id": "LtBZtdXvmKrT",
        "outputId": "3b886633-d9ed-48dc-d896-11f0aa649ca1"
      },
      "execution_count": 14,
      "outputs": [
        {
          "output_type": "stream",
          "name": "stdout",
          "text": [
            "86/86 [==============================] - 0s 2ms/step - loss: nan - accuracy: 0.0000e+00\n",
            "Test accuracy: 0.0\n"
          ]
        }
      ]
    },
    {
      "cell_type": "markdown",
      "source": [
        "# **4 layers**"
      ],
      "metadata": {
        "id": "m1l0djxYnZu1"
      }
    },
    {
      "cell_type": "code",
      "source": [
        "from keras.models import Sequential\n",
        "from keras.layers import Dense"
      ],
      "metadata": {
        "id": "VjJqYCwVDQ5d"
      },
      "execution_count": 43,
      "outputs": []
    },
    {
      "cell_type": "code",
      "source": [
        "df = pd.read_csv('/content/Normalized_Without_Outputs.csv')\n",
        "train_df = df.sample(frac=0.8, random_state=0)\n",
        "test_df = df.drop(train_df.index)"
      ],
      "metadata": {
        "id": "ZCpbHtC1DPqz"
      },
      "execution_count": 44,
      "outputs": []
    },
    {
      "cell_type": "code",
      "source": [
        "X = train_df.iloc[:, :-2].values\n",
        "y = train_df.iloc[:, -2:].values"
      ],
      "metadata": {
        "id": "KOG2QNtrG7Nf"
      },
      "execution_count": 45,
      "outputs": []
    },
    {
      "cell_type": "code",
      "source": [
        "model = Sequential()\n",
        "\n",
        "model.add(Dense(128, activation='relu', input_shape=(X.shape[1],)))\n",
        "model.add(Dropout(0.2))\n",
        "\n",
        "for i in range(3):\n",
        "  model.add(Dense(128, activation='relu'))\n",
        "  model.add(Dropout(0.2))\n",
        "\n",
        "model.add(Dense(2, activation='sigmoid'))"
      ],
      "metadata": {
        "id": "Ci60wwfEHBSc"
      },
      "execution_count": 46,
      "outputs": []
    },
    {
      "cell_type": "code",
      "source": [
        "model.compile(loss='binary_crossentropy', optimizer='adam', metrics=['accuracy'])"
      ],
      "metadata": {
        "id": "hUxNXEzfHP1b"
      },
      "execution_count": 47,
      "outputs": []
    },
    {
      "cell_type": "code",
      "source": [
        "history = model.fit(X, y, epochs=10, batch_size=64)"
      ],
      "metadata": {
        "colab": {
          "base_uri": "https://localhost:8080/"
        },
        "id": "XOavkN2iIK8s",
        "outputId": "026ef7b3-e063-4c6c-e2bf-11ec129c4500"
      },
      "execution_count": 48,
      "outputs": [
        {
          "output_type": "stream",
          "name": "stdout",
          "text": [
            "Epoch 1/10\n",
            "35/35 [==============================] - 1s 5ms/step - loss: -40139.3438 - accuracy: 0.9048\n",
            "Epoch 2/10\n",
            "35/35 [==============================] - 0s 4ms/step - loss: -5748499.0000 - accuracy: 0.9515\n",
            "Epoch 3/10\n",
            "35/35 [==============================] - 0s 4ms/step - loss: -148933008.0000 - accuracy: 0.8975\n",
            "Epoch 4/10\n",
            "35/35 [==============================] - 0s 4ms/step - loss: -1430073216.0000 - accuracy: 0.8686\n",
            "Epoch 5/10\n",
            "35/35 [==============================] - 0s 5ms/step - loss: -7636915712.0000 - accuracy: 0.8558\n",
            "Epoch 6/10\n",
            "35/35 [==============================] - 0s 4ms/step - loss: -28443949056.0000 - accuracy: 0.8522\n",
            "Epoch 7/10\n",
            "35/35 [==============================] - 0s 5ms/step - loss: -82974425088.0000 - accuracy: 0.8426\n",
            "Epoch 8/10\n",
            "35/35 [==============================] - 0s 4ms/step - loss: -202671079424.0000 - accuracy: 0.8311\n",
            "Epoch 9/10\n",
            "35/35 [==============================] - 0s 4ms/step - loss: -437244198912.0000 - accuracy: 0.8224\n",
            "Epoch 10/10\n",
            "35/35 [==============================] - 0s 5ms/step - loss: -853951381504.0000 - accuracy: 0.8211\n"
          ]
        }
      ]
    },
    {
      "cell_type": "code",
      "source": [
        "test_loss, test_acc = model.evaluate(X, y)\n",
        "print('Test accuracy:', test_acc)"
      ],
      "metadata": {
        "colab": {
          "base_uri": "https://localhost:8080/"
        },
        "id": "sN9nZPpzJEgr",
        "outputId": "c6d97137-5aef-4a33-97e0-bf586d138f76"
      },
      "execution_count": 49,
      "outputs": [
        {
          "output_type": "stream",
          "name": "stdout",
          "text": [
            "69/69 [==============================] - 0s 2ms/step - loss: -1162778116096.0000 - accuracy: 1.0000\n",
            "Test accuracy: 1.0\n"
          ]
        }
      ]
    }
  ]
}
