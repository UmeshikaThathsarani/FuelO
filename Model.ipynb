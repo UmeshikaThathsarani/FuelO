{
  "nbformat": 4,
  "nbformat_minor": 0,
  "metadata": {
    "colab": {
      "provenance": [],
      "authorship_tag": "ABX9TyO1TTw+5oNqtSi2pLzG8kRp",
      "include_colab_link": true
    },
    "kernelspec": {
      "name": "python3",
      "display_name": "Python 3"
    },
    "language_info": {
      "name": "python"
    }
  },
  "cells": [
    {
      "cell_type": "markdown",
      "metadata": {
        "id": "view-in-github",
        "colab_type": "text"
      },
      "source": [
        "<a href=\"https://colab.research.google.com/github/UmeshikaThathsarani/FuelO/blob/main/Model.ipynb\" target=\"_parent\"><img src=\"https://colab.research.google.com/assets/colab-badge.svg\" alt=\"Open In Colab\"/></a>"
      ]
    },
    {
      "cell_type": "code",
      "execution_count": 35,
      "metadata": {
        "id": "Jm05nP3MRZuM"
      },
      "outputs": [],
      "source": [
        "import tensorflow as tf\n",
        "import pandas as pd\n",
        "from keras.models import Sequential\n",
        "from keras.layers import Dense"
      ]
    },
    {
      "cell_type": "code",
      "source": [
        "df = pd.read_csv('/content/Normalized_Without_Outputs.csv')\n",
        "\n",
        "train_df = df.sample(frac=0.8, random_state=0)\n",
        "test_df = df.drop(train_df.index)"
      ],
      "metadata": {
        "id": "wXpDHeJER7Eb"
      },
      "execution_count": 36,
      "outputs": []
    },
    {
      "cell_type": "code",
      "source": [
        "X = train_df.iloc[:, :-2]\n",
        "y = train_df.iloc[:, -2:]"
      ],
      "metadata": {
        "id": "nYumrkOKR7la"
      },
      "execution_count": 37,
      "outputs": []
    },
    {
      "cell_type": "code",
      "source": [
        "# Define the model architecture\n",
        "model = Sequential()\n",
        "model.add(Dense(32, input_dim=X.shape[1], activation='relu'))\n",
        "model.add(Dense(64, activation='relu'))\n",
        "model.add(Dense(32, activation='relu'))\n",
        "model.add(Dense(2))"
      ],
      "metadata": {
        "id": "_RU_vCoBR9iJ"
      },
      "execution_count": 38,
      "outputs": []
    },
    {
      "cell_type": "code",
      "source": [
        "# Compile the model with a mean squared error loss function and the Adam optimization algorithm\n",
        "model.compile(loss='mean_squared_error', optimizer='adam')"
      ],
      "metadata": {
        "id": "YJ4uTAq6SDbt"
      },
      "execution_count": 39,
      "outputs": []
    },
    {
      "cell_type": "code",
      "source": [
        "# Fit the model to the data\n",
        "model.fit(X, y, epochs=80, batch_size=32, verbose=1)"
      ],
      "metadata": {
        "colab": {
          "base_uri": "https://localhost:8080/"
        },
        "id": "jTgICp30TkVB",
        "outputId": "91319884-0878-4c83-9f2b-178ff4f2069d"
      },
      "execution_count": 40,
      "outputs": [
        {
          "output_type": "stream",
          "name": "stdout",
          "text": [
            "Epoch 1/80\n",
            "69/69 [==============================] - 1s 3ms/step - loss: 15859144.0000\n",
            "Epoch 2/80\n",
            "69/69 [==============================] - 0s 3ms/step - loss: 14409473.0000\n",
            "Epoch 3/80\n",
            "69/69 [==============================] - 0s 2ms/step - loss: 6046185.0000\n",
            "Epoch 4/80\n",
            "69/69 [==============================] - 0s 3ms/step - loss: 1105569.7500\n",
            "Epoch 5/80\n",
            "69/69 [==============================] - 0s 2ms/step - loss: 698158.6875\n",
            "Epoch 6/80\n",
            "69/69 [==============================] - 0s 2ms/step - loss: 484960.8750\n",
            "Epoch 7/80\n",
            "69/69 [==============================] - 0s 2ms/step - loss: 343354.5000\n",
            "Epoch 8/80\n",
            "69/69 [==============================] - 0s 3ms/step - loss: 250676.2188\n",
            "Epoch 9/80\n",
            "69/69 [==============================] - 0s 5ms/step - loss: 192339.9375\n",
            "Epoch 10/80\n",
            "69/69 [==============================] - 0s 4ms/step - loss: 154906.6094\n",
            "Epoch 11/80\n",
            "69/69 [==============================] - 0s 5ms/step - loss: 131859.5156\n",
            "Epoch 12/80\n",
            "69/69 [==============================] - 0s 5ms/step - loss: 115899.9375\n",
            "Epoch 13/80\n",
            "69/69 [==============================] - 0s 5ms/step - loss: 104542.2578\n",
            "Epoch 14/80\n",
            "69/69 [==============================] - 0s 4ms/step - loss: 96155.8203\n",
            "Epoch 15/80\n",
            "69/69 [==============================] - 0s 5ms/step - loss: 89422.3828\n",
            "Epoch 16/80\n",
            "69/69 [==============================] - 0s 4ms/step - loss: 83428.5000\n",
            "Epoch 17/80\n",
            "69/69 [==============================] - 0s 4ms/step - loss: 78594.5391\n",
            "Epoch 18/80\n",
            "69/69 [==============================] - 0s 3ms/step - loss: 74286.3047\n",
            "Epoch 19/80\n",
            "69/69 [==============================] - 0s 3ms/step - loss: 70604.3828\n",
            "Epoch 20/80\n",
            "69/69 [==============================] - 0s 3ms/step - loss: 67547.9609\n",
            "Epoch 21/80\n",
            "69/69 [==============================] - 0s 2ms/step - loss: 64429.1211\n",
            "Epoch 22/80\n",
            "69/69 [==============================] - 0s 3ms/step - loss: 61907.9531\n",
            "Epoch 23/80\n",
            "69/69 [==============================] - 0s 3ms/step - loss: 59725.7070\n",
            "Epoch 24/80\n",
            "69/69 [==============================] - 0s 3ms/step - loss: 57547.9453\n",
            "Epoch 25/80\n",
            "69/69 [==============================] - 0s 3ms/step - loss: 55788.1250\n",
            "Epoch 26/80\n",
            "69/69 [==============================] - 0s 2ms/step - loss: 54024.9609\n",
            "Epoch 27/80\n",
            "69/69 [==============================] - 0s 3ms/step - loss: 52664.9062\n",
            "Epoch 28/80\n",
            "69/69 [==============================] - 0s 3ms/step - loss: 51407.9922\n",
            "Epoch 29/80\n",
            "69/69 [==============================] - 0s 3ms/step - loss: 49999.5117\n",
            "Epoch 30/80\n",
            "69/69 [==============================] - 0s 2ms/step - loss: 49019.5820\n",
            "Epoch 31/80\n",
            "69/69 [==============================] - 0s 2ms/step - loss: 48071.5000\n",
            "Epoch 32/80\n",
            "69/69 [==============================] - 0s 2ms/step - loss: 47066.2891\n",
            "Epoch 33/80\n",
            "69/69 [==============================] - 0s 3ms/step - loss: 45953.4727\n",
            "Epoch 34/80\n",
            "69/69 [==============================] - 0s 3ms/step - loss: 45305.8594\n",
            "Epoch 35/80\n",
            "69/69 [==============================] - 0s 3ms/step - loss: 44422.1992\n",
            "Epoch 36/80\n",
            "69/69 [==============================] - 0s 2ms/step - loss: 43582.1016\n",
            "Epoch 37/80\n",
            "69/69 [==============================] - 0s 2ms/step - loss: 43076.6797\n",
            "Epoch 38/80\n",
            "69/69 [==============================] - 0s 3ms/step - loss: 42329.4922\n",
            "Epoch 39/80\n",
            "69/69 [==============================] - 0s 3ms/step - loss: 41758.5117\n",
            "Epoch 40/80\n",
            "69/69 [==============================] - 0s 2ms/step - loss: 41147.3320\n",
            "Epoch 41/80\n",
            "69/69 [==============================] - 0s 3ms/step - loss: 40250.2500\n",
            "Epoch 42/80\n",
            "69/69 [==============================] - 0s 2ms/step - loss: 39712.3398\n",
            "Epoch 43/80\n",
            "69/69 [==============================] - 0s 3ms/step - loss: 39138.2344\n",
            "Epoch 44/80\n",
            "69/69 [==============================] - 0s 3ms/step - loss: 38572.4414\n",
            "Epoch 45/80\n",
            "69/69 [==============================] - 0s 3ms/step - loss: 38005.3164\n",
            "Epoch 46/80\n",
            "69/69 [==============================] - 0s 2ms/step - loss: 37493.7500\n",
            "Epoch 47/80\n",
            "69/69 [==============================] - 0s 2ms/step - loss: 36935.5820\n",
            "Epoch 48/80\n",
            "69/69 [==============================] - 0s 2ms/step - loss: 36423.6289\n",
            "Epoch 49/80\n",
            "69/69 [==============================] - 0s 2ms/step - loss: 35962.3516\n",
            "Epoch 50/80\n",
            "69/69 [==============================] - 0s 2ms/step - loss: 35430.1797\n",
            "Epoch 51/80\n",
            "69/69 [==============================] - 0s 3ms/step - loss: 34893.0039\n",
            "Epoch 52/80\n",
            "69/69 [==============================] - 0s 2ms/step - loss: 34648.8945\n",
            "Epoch 53/80\n",
            "69/69 [==============================] - 0s 3ms/step - loss: 34054.0000\n",
            "Epoch 54/80\n",
            "69/69 [==============================] - 0s 2ms/step - loss: 33704.6836\n",
            "Epoch 55/80\n",
            "69/69 [==============================] - 0s 3ms/step - loss: 33385.9414\n",
            "Epoch 56/80\n",
            "69/69 [==============================] - 0s 3ms/step - loss: 33055.2969\n",
            "Epoch 57/80\n",
            "69/69 [==============================] - 0s 3ms/step - loss: 32539.9277\n",
            "Epoch 58/80\n",
            "69/69 [==============================] - 0s 2ms/step - loss: 32140.6504\n",
            "Epoch 59/80\n",
            "69/69 [==============================] - 0s 2ms/step - loss: 31851.1113\n",
            "Epoch 60/80\n",
            "69/69 [==============================] - 0s 2ms/step - loss: 31622.9414\n",
            "Epoch 61/80\n",
            "69/69 [==============================] - 0s 3ms/step - loss: 31234.2891\n",
            "Epoch 62/80\n",
            "69/69 [==============================] - 0s 2ms/step - loss: 30895.3477\n",
            "Epoch 63/80\n",
            "69/69 [==============================] - 0s 2ms/step - loss: 30629.5625\n",
            "Epoch 64/80\n",
            "69/69 [==============================] - 0s 3ms/step - loss: 30289.0371\n",
            "Epoch 65/80\n",
            "69/69 [==============================] - 1s 7ms/step - loss: 30298.5938\n",
            "Epoch 66/80\n",
            "69/69 [==============================] - 0s 4ms/step - loss: 29848.5352\n",
            "Epoch 67/80\n",
            "69/69 [==============================] - 0s 2ms/step - loss: 29577.8945\n",
            "Epoch 68/80\n",
            "69/69 [==============================] - 0s 3ms/step - loss: 29509.2402\n",
            "Epoch 69/80\n",
            "69/69 [==============================] - 1s 11ms/step - loss: 28991.4102\n",
            "Epoch 70/80\n",
            "69/69 [==============================] - 0s 4ms/step - loss: 28881.1895\n",
            "Epoch 71/80\n",
            "69/69 [==============================] - 1s 11ms/step - loss: 28815.2617\n",
            "Epoch 72/80\n",
            "69/69 [==============================] - 0s 6ms/step - loss: 28497.2207\n",
            "Epoch 73/80\n",
            "69/69 [==============================] - 0s 4ms/step - loss: 28206.6133\n",
            "Epoch 74/80\n",
            "69/69 [==============================] - 0s 4ms/step - loss: 27968.9824\n",
            "Epoch 75/80\n",
            "69/69 [==============================] - 0s 4ms/step - loss: 27700.0137\n",
            "Epoch 76/80\n",
            "69/69 [==============================] - 0s 4ms/step - loss: 27699.8984\n",
            "Epoch 77/80\n",
            "69/69 [==============================] - 0s 2ms/step - loss: 27459.7734\n",
            "Epoch 78/80\n",
            "69/69 [==============================] - 0s 2ms/step - loss: 27195.1738\n",
            "Epoch 79/80\n",
            "69/69 [==============================] - 0s 2ms/step - loss: 26973.4141\n",
            "Epoch 80/80\n",
            "69/69 [==============================] - 0s 2ms/step - loss: 26789.8535\n"
          ]
        },
        {
          "output_type": "execute_result",
          "data": {
            "text/plain": [
              "<keras.callbacks.History at 0x7fb4713e7a30>"
            ]
          },
          "metadata": {},
          "execution_count": 40
        }
      ]
    },
    {
      "cell_type": "code",
      "source": [
        "X_test = test_df.iloc[:, :-2]\n",
        "y_test = test_df.iloc[:, -2:]\n",
        "\n",
        "model.evaluate(X_test, y_test)"
      ],
      "metadata": {
        "colab": {
          "base_uri": "https://localhost:8080/"
        },
        "id": "XsQ5M-fPWBW4",
        "outputId": "bec0f336-86de-427e-b13a-3e366b791248"
      },
      "execution_count": 41,
      "outputs": [
        {
          "output_type": "stream",
          "name": "stdout",
          "text": [
            "18/18 [==============================] - 0s 2ms/step - loss: 42180.2539\n"
          ]
        },
        {
          "output_type": "execute_result",
          "data": {
            "text/plain": [
              "42180.25390625"
            ]
          },
          "metadata": {},
          "execution_count": 41
        }
      ]
    }
  ]
}